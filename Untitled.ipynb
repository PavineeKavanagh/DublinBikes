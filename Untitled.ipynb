{
 "cells": [
  {
   "cell_type": "code",
   "execution_count": 1,
   "metadata": {},
   "outputs": [],
   "source": [
    "import requests\n",
    "import json\n",
    "import time\n",
    "import mysql.connector\n",
    "import pandas as pd"
   ]
  },
  {
   "cell_type": "code",
   "execution_count": 2,
   "metadata": {},
   "outputs": [],
   "source": [
    "# Configuration values for mysql connection\n",
    "\n",
    "config = {\n",
    "    'user': 'root',\n",
    "    'password': '00001234',\n",
    "    'host': 'dublinbikescomp30670.c8lbidkpdn4h.us-east-2.rds.amazonaws.com',\n",
    "    'database': 'dublinbikes',\n",
    "    'raise_on_warnings': True,\n",
    "}\n",
    "\n",
    "cnx = mysql.connector.connect(**config) # ------------------------- Connecting to RDS\n",
    "cursor = cnx.cursor()                   # ------------------------- Cursor to execute all the queries\n",
    "# stations = json.loads(response.text)    # ------------------------- Loading JSON Data"
   ]
  },
  {
   "cell_type": "code",
   "execution_count": 3,
   "metadata": {},
   "outputs": [],
   "source": [
    "query = (\"select * from openweathermap_dublin_bikes_dump where weather_date>=subdate(DATE(now()),7) and weather_date<=DATE(NOW())\")\n",
    "cursor.execute(query)\n",
    "colNames = [ x[0] for x in cursor.description]\n",
    "rows = cursor.fetchall()\n",
    "weather_Data = pd.DataFrame( rows, columns=colNames)\n",
    "query = (\"select * from jcdecaux_dublin_bikes_stations_dump where station_data_LUD>=subdate(DATE(now()),7) and station_data_LUD<=DATE(NOW())\")\n",
    "cursor.execute(query)\n",
    "colNames = [ x[0] for x in cursor.description]\n",
    "rows = cursor.fetchall()\n",
    "jcd_Data = pd.DataFrame( rows, columns=colNames)\n",
    "cnx.close()"
   ]
  },
  {
   "cell_type": "code",
   "execution_count": 8,
   "metadata": {},
   "outputs": [],
   "source": [
    "weather_Data['date'] = [d.date() for d in weather_Data['weather_date']]\n",
    "weather_Data['time'] = [d.time() for d in weather_Data['weather_date']]\n",
    "jcd_Data['date'] = [d.date() for d in jcd_Data['station_data_LUD']]\n",
    "jcd_Data['time'] = [d.time() for d in jcd_Data['station_data_LUD']]\n",
    "weather_Data['dayOfWeek'] = weather_Data.weather_date.dt.dayofweek\n",
    "jcd_Data['dayOfWeek'] = jcd_Data.station_data_LUD.dt.dayofweek"
   ]
  },
  {
   "cell_type": "code",
   "execution_count": 10,
   "metadata": {},
   "outputs": [],
   "source": [
    "weather_Data.set_index('weather_date',inplace=True)"
   ]
  },
  {
   "cell_type": "code",
   "execution_count": 11,
   "metadata": {},
   "outputs": [],
   "source": [
    "jcd_Data.set_index('station_data_LUD',inplace=True)"
   ]
  },
  {
   "cell_type": "code",
   "execution_count": 44,
   "metadata": {},
   "outputs": [
    {
     "data": {
      "text/plain": [
       "station_data_LUD\n",
       "2018-04-12 00:00:00     0.000000\n",
       "2018-04-12 03:00:00     4.514286\n",
       "2018-04-12 06:00:00    13.111111\n",
       "2018-04-12 09:00:00    21.621622\n",
       "2018-04-12 12:00:00    21.628571\n",
       "2018-04-12 15:00:00     8.722222\n",
       "2018-04-12 18:00:00    16.500000\n",
       "2018-04-12 21:00:00     3.638889\n",
       "2018-04-13 00:00:00     1.000000\n",
       "2018-04-13 03:00:00     3.771429\n",
       "2018-04-13 06:00:00    20.351351\n",
       "2018-04-13 09:00:00    30.730769\n",
       "2018-04-13 12:00:00    22.548387\n",
       "2018-04-13 15:00:00     8.833333\n",
       "2018-04-13 18:00:00    15.486486\n",
       "2018-04-13 21:00:00    14.028571\n",
       "2018-04-14 00:00:00    10.000000\n",
       "2018-04-14 03:00:00    11.777778\n",
       "2018-04-14 06:00:00    26.027778\n",
       "2018-04-14 09:00:00    30.138889\n",
       "2018-04-14 12:00:00    28.800000\n",
       "2018-04-14 15:00:00    24.216216\n",
       "2018-04-14 18:00:00    23.176471\n",
       "2018-04-14 21:00:00    22.857143\n",
       "2018-04-15 00:00:00    19.000000\n",
       "2018-04-15 03:00:00    20.250000\n",
       "2018-04-15 06:00:00    28.222222\n",
       "2018-04-15 09:00:00    30.531250\n",
       "2018-04-15 12:00:00    23.257143\n",
       "2018-04-15 15:00:00     8.222222\n",
       "2018-04-15 18:00:00     4.277778\n",
       "2018-04-15 21:00:00     1.972222\n",
       "2018-04-16 00:00:00     0.000000\n",
       "2018-04-16 03:00:00     3.514286\n",
       "2018-04-16 06:00:00    24.648649\n",
       "2018-04-16 09:00:00    22.571429\n",
       "2018-04-16 12:00:00    24.216216\n",
       "2018-04-16 15:00:00     6.555556\n",
       "2018-04-16 18:00:00     0.444444\n",
       "2018-04-16 21:00:00     0.323529\n",
       "2018-04-17 00:00:00     1.000000\n",
       "2018-04-17 03:00:00     2.555556\n",
       "2018-04-17 06:00:00    14.428571\n",
       "2018-04-17 09:00:00    28.459459\n",
       "2018-04-17 12:00:00    24.700000\n",
       "2018-04-17 15:00:00    13.571429\n",
       "2018-04-17 18:00:00     2.771429\n",
       "2018-04-17 21:00:00     0.388889\n",
       "2018-04-18 00:00:00     0.000000\n",
       "2018-04-18 03:00:00     3.444444\n",
       "2018-04-18 06:00:00    12.800000\n",
       "2018-04-18 09:00:00    27.111111\n",
       "2018-04-18 12:00:00    18.783784\n",
       "2018-04-18 15:00:00    17.000000\n",
       "2018-04-18 18:00:00     6.750000\n",
       "2018-04-18 21:00:00     4.194444\n",
       "Freq: 3H, Name: station_available_bikes, dtype: float64"
      ]
     },
     "execution_count": 44,
     "metadata": {},
     "output_type": "execute_result"
    }
   ],
   "source": [
    "jcd_Data[jcd_Data.station_number==1].resample('3H').mean()['station_available_bikes']"
   ]
  },
  {
   "cell_type": "code",
   "execution_count": 14,
   "metadata": {},
   "outputs": [
    {
     "data": {
      "text/plain": [
       "DatetimeIndexResampler [freq=<3 * Hours>, axis=0, closed=left, label=left, convention=start, base=0]"
      ]
     },
     "execution_count": 14,
     "metadata": {},
     "output_type": "execute_result"
    }
   ],
   "source": [
    "new_df"
   ]
  },
  {
   "cell_type": "code",
   "execution_count": 21,
   "metadata": {},
   "outputs": [],
   "source": [
    "station_nums = jcd_Data['station_number'].unique()"
   ]
  },
  {
   "cell_type": "code",
   "execution_count": 48,
   "metadata": {},
   "outputs": [
    {
     "data": {
      "text/plain": [
       "Timestamp('2018-04-12 00:03:51')"
      ]
     },
     "execution_count": 48,
     "metadata": {},
     "output_type": "execute_result"
    }
   ],
   "source": [
    "jcd_Data.index[0]"
   ]
  },
  {
   "cell_type": "code",
   "execution_count": 50,
   "metadata": {},
   "outputs": [
    {
     "ename": "IndexError",
     "evalue": "index out of bounds",
     "output_type": "error",
     "traceback": [
      "\u001b[1;31m---------------------------------------------------------------------------\u001b[0m",
      "\u001b[1;31mKeyError\u001b[0m                                  Traceback (most recent call last)",
      "\u001b[1;32mC:\\Users\\harsh\\Anaconda3\\envs\\COMP30670\\lib\\site-packages\\pandas\\core\\indexes\\base.py\u001b[0m in \u001b[0;36mget_value\u001b[1;34m(self, series, key)\u001b[0m\n\u001b[0;32m   2559\u001b[0m             return self._engine.get_value(s, k,\n\u001b[1;32m-> 2560\u001b[1;33m                                           tz=getattr(series.dtype, 'tz', None))\n\u001b[0m\u001b[0;32m   2561\u001b[0m         \u001b[1;32mexcept\u001b[0m \u001b[0mKeyError\u001b[0m \u001b[1;32mas\u001b[0m \u001b[0me1\u001b[0m\u001b[1;33m:\u001b[0m\u001b[1;33m\u001b[0m\u001b[0m\n",
      "\u001b[1;32mpandas\\_libs\\index.pyx\u001b[0m in \u001b[0;36mpandas._libs.index.IndexEngine.get_value\u001b[1;34m()\u001b[0m\n",
      "\u001b[1;32mpandas\\_libs\\index.pyx\u001b[0m in \u001b[0;36mpandas._libs.index.IndexEngine.get_value\u001b[1;34m()\u001b[0m\n",
      "\u001b[1;32mpandas\\_libs\\index.pyx\u001b[0m in \u001b[0;36mpandas._libs.index.DatetimeEngine.get_loc\u001b[1;34m()\u001b[0m\n",
      "\u001b[1;32mpandas\\_libs\\hashtable_class_helper.pxi\u001b[0m in \u001b[0;36mpandas._libs.hashtable.Int64HashTable.get_item\u001b[1;34m()\u001b[0m\n",
      "\u001b[1;32mpandas\\_libs\\hashtable_class_helper.pxi\u001b[0m in \u001b[0;36mpandas._libs.hashtable.Int64HashTable.get_item\u001b[1;34m()\u001b[0m\n",
      "\u001b[1;31mKeyError\u001b[0m: 0",
      "\nDuring handling of the above exception, another exception occurred:\n",
      "\u001b[1;31mIndexError\u001b[0m                                Traceback (most recent call last)",
      "\u001b[1;32m<ipython-input-50-f3105c839ac4>\u001b[0m in \u001b[0;36m<module>\u001b[1;34m()\u001b[0m\n\u001b[0;32m      4\u001b[0m \u001b[0mindex\u001b[0m \u001b[1;33m=\u001b[0m \u001b[0mjcd_Data\u001b[0m\u001b[1;33m.\u001b[0m\u001b[0mindex\u001b[0m\u001b[1;33m.\u001b[0m\u001b[0mtolist\u001b[0m\u001b[1;33m(\u001b[0m\u001b[1;33m)\u001b[0m\u001b[1;33m\u001b[0m\u001b[0m\n\u001b[0;32m      5\u001b[0m \u001b[1;32mfor\u001b[0m \u001b[0mi\u001b[0m \u001b[1;32min\u001b[0m \u001b[0mrange\u001b[0m\u001b[1;33m(\u001b[0m\u001b[0mjcd_Data\u001b[0m\u001b[1;33m.\u001b[0m\u001b[0mshape\u001b[0m\u001b[1;33m[\u001b[0m\u001b[1;36m0\u001b[0m\u001b[1;33m]\u001b[0m\u001b[1;33m)\u001b[0m\u001b[1;33m:\u001b[0m\u001b[1;33m\u001b[0m\u001b[0m\n\u001b[1;32m----> 6\u001b[1;33m     \u001b[0mavailable_Bikes\u001b[0m\u001b[1;33m.\u001b[0m\u001b[0mappend\u001b[0m\u001b[1;33m(\u001b[0m\u001b[0mjcd_Data\u001b[0m\u001b[1;33m[\u001b[0m\u001b[0mjcd_Data\u001b[0m\u001b[1;33m.\u001b[0m\u001b[0mstation_number\u001b[0m\u001b[1;33m==\u001b[0m\u001b[0mi\u001b[0m\u001b[1;33m]\u001b[0m\u001b[1;33m.\u001b[0m\u001b[0mresample\u001b[0m\u001b[1;33m(\u001b[0m\u001b[1;34m'3H'\u001b[0m\u001b[1;33m)\u001b[0m\u001b[1;33m.\u001b[0m\u001b[0mmean\u001b[0m\u001b[1;33m(\u001b[0m\u001b[1;33m)\u001b[0m\u001b[1;33m[\u001b[0m\u001b[1;34m'station_available_bikes'\u001b[0m\u001b[1;33m]\u001b[0m\u001b[1;33m[\u001b[0m\u001b[0mi\u001b[0m\u001b[1;33m]\u001b[0m\u001b[1;33m)\u001b[0m\u001b[1;33m\u001b[0m\u001b[0m\n\u001b[0m\u001b[0;32m      7\u001b[0m     \u001b[0mstation\u001b[0m\u001b[1;33m.\u001b[0m\u001b[0mappend\u001b[0m\u001b[1;33m(\u001b[0m\u001b[0mjcd_Data\u001b[0m\u001b[1;33m[\u001b[0m\u001b[1;34m'station_number'\u001b[0m\u001b[1;33m]\u001b[0m\u001b[1;33m[\u001b[0m\u001b[0mi\u001b[0m\u001b[1;33m]\u001b[0m\u001b[1;33m)\u001b[0m\u001b[1;33m\u001b[0m\u001b[0m\n",
      "\u001b[1;32mC:\\Users\\harsh\\Anaconda3\\envs\\COMP30670\\lib\\site-packages\\pandas\\core\\series.py\u001b[0m in \u001b[0;36m__getitem__\u001b[1;34m(self, key)\u001b[0m\n\u001b[0;32m    621\u001b[0m         \u001b[0mkey\u001b[0m \u001b[1;33m=\u001b[0m \u001b[0mcom\u001b[0m\u001b[1;33m.\u001b[0m\u001b[0m_apply_if_callable\u001b[0m\u001b[1;33m(\u001b[0m\u001b[0mkey\u001b[0m\u001b[1;33m,\u001b[0m \u001b[0mself\u001b[0m\u001b[1;33m)\u001b[0m\u001b[1;33m\u001b[0m\u001b[0m\n\u001b[0;32m    622\u001b[0m         \u001b[1;32mtry\u001b[0m\u001b[1;33m:\u001b[0m\u001b[1;33m\u001b[0m\u001b[0m\n\u001b[1;32m--> 623\u001b[1;33m             \u001b[0mresult\u001b[0m \u001b[1;33m=\u001b[0m \u001b[0mself\u001b[0m\u001b[1;33m.\u001b[0m\u001b[0mindex\u001b[0m\u001b[1;33m.\u001b[0m\u001b[0mget_value\u001b[0m\u001b[1;33m(\u001b[0m\u001b[0mself\u001b[0m\u001b[1;33m,\u001b[0m \u001b[0mkey\u001b[0m\u001b[1;33m)\u001b[0m\u001b[1;33m\u001b[0m\u001b[0m\n\u001b[0m\u001b[0;32m    624\u001b[0m \u001b[1;33m\u001b[0m\u001b[0m\n\u001b[0;32m    625\u001b[0m             \u001b[1;32mif\u001b[0m \u001b[1;32mnot\u001b[0m \u001b[0mis_scalar\u001b[0m\u001b[1;33m(\u001b[0m\u001b[0mresult\u001b[0m\u001b[1;33m)\u001b[0m\u001b[1;33m:\u001b[0m\u001b[1;33m\u001b[0m\u001b[0m\n",
      "\u001b[1;32mC:\\Users\\harsh\\Anaconda3\\envs\\COMP30670\\lib\\site-packages\\pandas\\core\\indexes\\datetimes.py\u001b[0m in \u001b[0;36mget_value\u001b[1;34m(self, series, key)\u001b[0m\n\u001b[0;32m   1383\u001b[0m \u001b[1;33m\u001b[0m\u001b[0m\n\u001b[0;32m   1384\u001b[0m         \u001b[1;32mtry\u001b[0m\u001b[1;33m:\u001b[0m\u001b[1;33m\u001b[0m\u001b[0m\n\u001b[1;32m-> 1385\u001b[1;33m             return _maybe_box(self, Index.get_value(self, series, key),\n\u001b[0m\u001b[0;32m   1386\u001b[0m                               series, key)\n\u001b[0;32m   1387\u001b[0m         \u001b[1;32mexcept\u001b[0m \u001b[0mKeyError\u001b[0m\u001b[1;33m:\u001b[0m\u001b[1;33m\u001b[0m\u001b[0m\n",
      "\u001b[1;32mC:\\Users\\harsh\\Anaconda3\\envs\\COMP30670\\lib\\site-packages\\pandas\\core\\indexes\\base.py\u001b[0m in \u001b[0;36mget_value\u001b[1;34m(self, series, key)\u001b[0m\n\u001b[0;32m   2564\u001b[0m \u001b[1;33m\u001b[0m\u001b[0m\n\u001b[0;32m   2565\u001b[0m             \u001b[1;32mtry\u001b[0m\u001b[1;33m:\u001b[0m\u001b[1;33m\u001b[0m\u001b[0m\n\u001b[1;32m-> 2566\u001b[1;33m                 \u001b[1;32mreturn\u001b[0m \u001b[0mlibts\u001b[0m\u001b[1;33m.\u001b[0m\u001b[0mget_value_box\u001b[0m\u001b[1;33m(\u001b[0m\u001b[0ms\u001b[0m\u001b[1;33m,\u001b[0m \u001b[0mkey\u001b[0m\u001b[1;33m)\u001b[0m\u001b[1;33m\u001b[0m\u001b[0m\n\u001b[0m\u001b[0;32m   2567\u001b[0m             \u001b[1;32mexcept\u001b[0m \u001b[0mIndexError\u001b[0m\u001b[1;33m:\u001b[0m\u001b[1;33m\u001b[0m\u001b[0m\n\u001b[0;32m   2568\u001b[0m                 \u001b[1;32mraise\u001b[0m\u001b[1;33m\u001b[0m\u001b[0m\n",
      "\u001b[1;32mpandas\\_libs\\tslib.pyx\u001b[0m in \u001b[0;36mpandas._libs.tslib.get_value_box\u001b[1;34m()\u001b[0m\n",
      "\u001b[1;32mpandas\\_libs\\tslib.pyx\u001b[0m in \u001b[0;36mpandas._libs.tslib.get_value_box\u001b[1;34m()\u001b[0m\n",
      "\u001b[1;31mIndexError\u001b[0m: index out of bounds"
     ]
    }
   ],
   "source": [
    "df_new = pd.DataFrame()\n",
    "available_Bikes = []\n",
    "station = []\n",
    "index = jcd_Data.index.tolist()\n",
    "\n",
    "for i in range(jcd_Data.shape[0]):\n",
    "    available_Bikes.append(jcd_Data[jcd_Data.station_number==i].resample('3H').mean()['station_available_bikes'][i])\n",
    "    station.append(jcd_Data['station_number'][i])"
   ]
  },
  {
   "cell_type": "code",
   "execution_count": 36,
   "metadata": {},
   "outputs": [
    {
     "ename": "ValueError",
     "evalue": "Length of values does not match length of index",
     "output_type": "error",
     "traceback": [
      "\u001b[1;31m---------------------------------------------------------------------------\u001b[0m",
      "\u001b[1;31mValueError\u001b[0m                                Traceback (most recent call last)",
      "\u001b[1;32m<ipython-input-36-c55c0d236a29>\u001b[0m in \u001b[0;36m<module>\u001b[1;34m()\u001b[0m\n\u001b[0;32m      1\u001b[0m \u001b[0mdf_new\u001b[0m\u001b[1;33m[\u001b[0m\u001b[1;34m'station_num'\u001b[0m\u001b[1;33m]\u001b[0m \u001b[1;33m=\u001b[0m \u001b[0mstation\u001b[0m\u001b[1;33m\u001b[0m\u001b[0m\n\u001b[0;32m      2\u001b[0m \u001b[0mdf_new\u001b[0m\u001b[1;33m[\u001b[0m\u001b[1;34m'available_bikes'\u001b[0m\u001b[1;33m]\u001b[0m \u001b[1;33m=\u001b[0m \u001b[0mavailable_Bikes\u001b[0m\u001b[1;33m\u001b[0m\u001b[0m\n\u001b[1;32m----> 3\u001b[1;33m \u001b[0mdf_new\u001b[0m\u001b[1;33m[\u001b[0m\u001b[1;34m'time'\u001b[0m\u001b[1;33m]\u001b[0m \u001b[1;33m=\u001b[0m \u001b[0mindex\u001b[0m\u001b[1;33m\u001b[0m\u001b[0m\n\u001b[0m",
      "\u001b[1;32mC:\\Users\\harsh\\Anaconda3\\envs\\COMP30670\\lib\\site-packages\\pandas\\core\\frame.py\u001b[0m in \u001b[0;36m__setitem__\u001b[1;34m(self, key, value)\u001b[0m\n\u001b[0;32m   2517\u001b[0m         \u001b[1;32melse\u001b[0m\u001b[1;33m:\u001b[0m\u001b[1;33m\u001b[0m\u001b[0m\n\u001b[0;32m   2518\u001b[0m             \u001b[1;31m# set column\u001b[0m\u001b[1;33m\u001b[0m\u001b[1;33m\u001b[0m\u001b[0m\n\u001b[1;32m-> 2519\u001b[1;33m             \u001b[0mself\u001b[0m\u001b[1;33m.\u001b[0m\u001b[0m_set_item\u001b[0m\u001b[1;33m(\u001b[0m\u001b[0mkey\u001b[0m\u001b[1;33m,\u001b[0m \u001b[0mvalue\u001b[0m\u001b[1;33m)\u001b[0m\u001b[1;33m\u001b[0m\u001b[0m\n\u001b[0m\u001b[0;32m   2520\u001b[0m \u001b[1;33m\u001b[0m\u001b[0m\n\u001b[0;32m   2521\u001b[0m     \u001b[1;32mdef\u001b[0m \u001b[0m_setitem_slice\u001b[0m\u001b[1;33m(\u001b[0m\u001b[0mself\u001b[0m\u001b[1;33m,\u001b[0m \u001b[0mkey\u001b[0m\u001b[1;33m,\u001b[0m \u001b[0mvalue\u001b[0m\u001b[1;33m)\u001b[0m\u001b[1;33m:\u001b[0m\u001b[1;33m\u001b[0m\u001b[0m\n",
      "\u001b[1;32mC:\\Users\\harsh\\Anaconda3\\envs\\COMP30670\\lib\\site-packages\\pandas\\core\\frame.py\u001b[0m in \u001b[0;36m_set_item\u001b[1;34m(self, key, value)\u001b[0m\n\u001b[0;32m   2583\u001b[0m \u001b[1;33m\u001b[0m\u001b[0m\n\u001b[0;32m   2584\u001b[0m         \u001b[0mself\u001b[0m\u001b[1;33m.\u001b[0m\u001b[0m_ensure_valid_index\u001b[0m\u001b[1;33m(\u001b[0m\u001b[0mvalue\u001b[0m\u001b[1;33m)\u001b[0m\u001b[1;33m\u001b[0m\u001b[0m\n\u001b[1;32m-> 2585\u001b[1;33m         \u001b[0mvalue\u001b[0m \u001b[1;33m=\u001b[0m \u001b[0mself\u001b[0m\u001b[1;33m.\u001b[0m\u001b[0m_sanitize_column\u001b[0m\u001b[1;33m(\u001b[0m\u001b[0mkey\u001b[0m\u001b[1;33m,\u001b[0m \u001b[0mvalue\u001b[0m\u001b[1;33m)\u001b[0m\u001b[1;33m\u001b[0m\u001b[0m\n\u001b[0m\u001b[0;32m   2586\u001b[0m         \u001b[0mNDFrame\u001b[0m\u001b[1;33m.\u001b[0m\u001b[0m_set_item\u001b[0m\u001b[1;33m(\u001b[0m\u001b[0mself\u001b[0m\u001b[1;33m,\u001b[0m \u001b[0mkey\u001b[0m\u001b[1;33m,\u001b[0m \u001b[0mvalue\u001b[0m\u001b[1;33m)\u001b[0m\u001b[1;33m\u001b[0m\u001b[0m\n\u001b[0;32m   2587\u001b[0m \u001b[1;33m\u001b[0m\u001b[0m\n",
      "\u001b[1;32mC:\\Users\\harsh\\Anaconda3\\envs\\COMP30670\\lib\\site-packages\\pandas\\core\\frame.py\u001b[0m in \u001b[0;36m_sanitize_column\u001b[1;34m(self, key, value, broadcast)\u001b[0m\n\u001b[0;32m   2758\u001b[0m \u001b[1;33m\u001b[0m\u001b[0m\n\u001b[0;32m   2759\u001b[0m             \u001b[1;31m# turn me into an ndarray\u001b[0m\u001b[1;33m\u001b[0m\u001b[1;33m\u001b[0m\u001b[0m\n\u001b[1;32m-> 2760\u001b[1;33m             \u001b[0mvalue\u001b[0m \u001b[1;33m=\u001b[0m \u001b[0m_sanitize_index\u001b[0m\u001b[1;33m(\u001b[0m\u001b[0mvalue\u001b[0m\u001b[1;33m,\u001b[0m \u001b[0mself\u001b[0m\u001b[1;33m.\u001b[0m\u001b[0mindex\u001b[0m\u001b[1;33m,\u001b[0m \u001b[0mcopy\u001b[0m\u001b[1;33m=\u001b[0m\u001b[1;32mFalse\u001b[0m\u001b[1;33m)\u001b[0m\u001b[1;33m\u001b[0m\u001b[0m\n\u001b[0m\u001b[0;32m   2761\u001b[0m             \u001b[1;32mif\u001b[0m \u001b[1;32mnot\u001b[0m \u001b[0misinstance\u001b[0m\u001b[1;33m(\u001b[0m\u001b[0mvalue\u001b[0m\u001b[1;33m,\u001b[0m \u001b[1;33m(\u001b[0m\u001b[0mnp\u001b[0m\u001b[1;33m.\u001b[0m\u001b[0mndarray\u001b[0m\u001b[1;33m,\u001b[0m \u001b[0mIndex\u001b[0m\u001b[1;33m)\u001b[0m\u001b[1;33m)\u001b[0m\u001b[1;33m:\u001b[0m\u001b[1;33m\u001b[0m\u001b[0m\n\u001b[0;32m   2762\u001b[0m                 \u001b[1;32mif\u001b[0m \u001b[0misinstance\u001b[0m\u001b[1;33m(\u001b[0m\u001b[0mvalue\u001b[0m\u001b[1;33m,\u001b[0m \u001b[0mlist\u001b[0m\u001b[1;33m)\u001b[0m \u001b[1;32mand\u001b[0m \u001b[0mlen\u001b[0m\u001b[1;33m(\u001b[0m\u001b[0mvalue\u001b[0m\u001b[1;33m)\u001b[0m \u001b[1;33m>\u001b[0m \u001b[1;36m0\u001b[0m\u001b[1;33m:\u001b[0m\u001b[1;33m\u001b[0m\u001b[0m\n",
      "\u001b[1;32mC:\\Users\\harsh\\Anaconda3\\envs\\COMP30670\\lib\\site-packages\\pandas\\core\\series.py\u001b[0m in \u001b[0;36m_sanitize_index\u001b[1;34m(data, index, copy)\u001b[0m\n\u001b[0;32m   3119\u001b[0m \u001b[1;33m\u001b[0m\u001b[0m\n\u001b[0;32m   3120\u001b[0m     \u001b[1;32mif\u001b[0m \u001b[0mlen\u001b[0m\u001b[1;33m(\u001b[0m\u001b[0mdata\u001b[0m\u001b[1;33m)\u001b[0m \u001b[1;33m!=\u001b[0m \u001b[0mlen\u001b[0m\u001b[1;33m(\u001b[0m\u001b[0mindex\u001b[0m\u001b[1;33m)\u001b[0m\u001b[1;33m:\u001b[0m\u001b[1;33m\u001b[0m\u001b[0m\n\u001b[1;32m-> 3121\u001b[1;33m         \u001b[1;32mraise\u001b[0m \u001b[0mValueError\u001b[0m\u001b[1;33m(\u001b[0m\u001b[1;34m'Length of values does not match length of '\u001b[0m \u001b[1;34m'index'\u001b[0m\u001b[1;33m)\u001b[0m\u001b[1;33m\u001b[0m\u001b[0m\n\u001b[0m\u001b[0;32m   3122\u001b[0m \u001b[1;33m\u001b[0m\u001b[0m\n\u001b[0;32m   3123\u001b[0m     \u001b[1;32mif\u001b[0m \u001b[0misinstance\u001b[0m\u001b[1;33m(\u001b[0m\u001b[0mdata\u001b[0m\u001b[1;33m,\u001b[0m \u001b[0mPeriodIndex\u001b[0m\u001b[1;33m)\u001b[0m\u001b[1;33m:\u001b[0m\u001b[1;33m\u001b[0m\u001b[0m\n",
      "\u001b[1;31mValueError\u001b[0m: Length of values does not match length of index"
     ]
    }
   ],
   "source": [
    "df_new['station_num'] = station\n",
    "df_new['available_bikes'] = available_Bikes\n",
    "df_new['time'] = index"
   ]
  },
  {
   "cell_type": "code",
   "execution_count": 34,
   "metadata": {},
   "outputs": [],
   "source": [
    "index = jcd_Data.index.tolist()"
   ]
  },
  {
   "cell_type": "code",
   "execution_count": 39,
   "metadata": {},
   "outputs": [
    {
     "data": {
      "text/plain": [
       "205056"
      ]
     },
     "execution_count": 39,
     "metadata": {},
     "output_type": "execute_result"
    }
   ],
   "source": [
    "len(index)"
   ]
  },
  {
   "cell_type": "code",
   "execution_count": 40,
   "metadata": {},
   "outputs": [
    {
     "data": {
      "text/plain": [
       "(104, 2)"
      ]
     },
     "execution_count": 40,
     "metadata": {},
     "output_type": "execute_result"
    }
   ],
   "source": [
    "df_new.shape"
   ]
  },
  {
   "cell_type": "code",
   "execution_count": 67,
   "metadata": {},
   "outputs": [],
   "source": [
    "datafr = pd.DataFrame()"
   ]
  },
  {
   "cell_type": "code",
   "execution_count": 62,
   "metadata": {},
   "outputs": [
    {
     "data": {
      "text/html": [
       "<div>\n",
       "<style scoped>\n",
       "    .dataframe tbody tr th:only-of-type {\n",
       "        vertical-align: middle;\n",
       "    }\n",
       "\n",
       "    .dataframe tbody tr th {\n",
       "        vertical-align: top;\n",
       "    }\n",
       "\n",
       "    .dataframe thead th {\n",
       "        text-align: right;\n",
       "    }\n",
       "</style>\n",
       "<table border=\"1\" class=\"dataframe\">\n",
       "  <thead>\n",
       "    <tr style=\"text-align: right;\">\n",
       "      <th></th>\n",
       "      <th>station_available_bikes</th>\n",
       "    </tr>\n",
       "    <tr>\n",
       "      <th>station_data_LUD</th>\n",
       "      <th></th>\n",
       "    </tr>\n",
       "  </thead>\n",
       "  <tbody>\n",
       "    <tr>\n",
       "      <th>2018-04-12 00:00:00</th>\n",
       "      <td>13.162994</td>\n",
       "    </tr>\n",
       "    <tr>\n",
       "      <th>2018-04-12 03:00:00</th>\n",
       "      <td>12.958121</td>\n",
       "    </tr>\n",
       "    <tr>\n",
       "      <th>2018-04-12 06:00:00</th>\n",
       "      <td>10.948594</td>\n",
       "    </tr>\n",
       "    <tr>\n",
       "      <th>2018-04-12 09:00:00</th>\n",
       "      <td>11.856533</td>\n",
       "    </tr>\n",
       "    <tr>\n",
       "      <th>2018-04-12 12:00:00</th>\n",
       "      <td>11.932762</td>\n",
       "    </tr>\n",
       "    <tr>\n",
       "      <th>2018-04-12 15:00:00</th>\n",
       "      <td>10.976210</td>\n",
       "    </tr>\n",
       "    <tr>\n",
       "      <th>2018-04-12 18:00:00</th>\n",
       "      <td>12.212404</td>\n",
       "    </tr>\n",
       "    <tr>\n",
       "      <th>2018-04-12 21:00:00</th>\n",
       "      <td>12.975557</td>\n",
       "    </tr>\n",
       "    <tr>\n",
       "      <th>2018-04-13 00:00:00</th>\n",
       "      <td>13.109499</td>\n",
       "    </tr>\n",
       "    <tr>\n",
       "      <th>2018-04-13 03:00:00</th>\n",
       "      <td>12.994067</td>\n",
       "    </tr>\n",
       "    <tr>\n",
       "      <th>2018-04-13 06:00:00</th>\n",
       "      <td>11.127694</td>\n",
       "    </tr>\n",
       "    <tr>\n",
       "      <th>2018-04-13 09:00:00</th>\n",
       "      <td>11.935239</td>\n",
       "    </tr>\n",
       "    <tr>\n",
       "      <th>2018-04-13 12:00:00</th>\n",
       "      <td>12.058914</td>\n",
       "    </tr>\n",
       "    <tr>\n",
       "      <th>2018-04-13 15:00:00</th>\n",
       "      <td>11.379467</td>\n",
       "    </tr>\n",
       "    <tr>\n",
       "      <th>2018-04-13 18:00:00</th>\n",
       "      <td>12.709076</td>\n",
       "    </tr>\n",
       "    <tr>\n",
       "      <th>2018-04-13 21:00:00</th>\n",
       "      <td>13.160324</td>\n",
       "    </tr>\n",
       "    <tr>\n",
       "      <th>2018-04-14 00:00:00</th>\n",
       "      <td>13.374637</td>\n",
       "    </tr>\n",
       "    <tr>\n",
       "      <th>2018-04-14 03:00:00</th>\n",
       "      <td>13.356297</td>\n",
       "    </tr>\n",
       "    <tr>\n",
       "      <th>2018-04-14 06:00:00</th>\n",
       "      <td>13.064396</td>\n",
       "    </tr>\n",
       "    <tr>\n",
       "      <th>2018-04-14 09:00:00</th>\n",
       "      <td>12.626238</td>\n",
       "    </tr>\n",
       "    <tr>\n",
       "      <th>2018-04-14 12:00:00</th>\n",
       "      <td>12.028327</td>\n",
       "    </tr>\n",
       "    <tr>\n",
       "      <th>2018-04-14 15:00:00</th>\n",
       "      <td>12.145493</td>\n",
       "    </tr>\n",
       "    <tr>\n",
       "      <th>2018-04-14 18:00:00</th>\n",
       "      <td>12.811395</td>\n",
       "    </tr>\n",
       "    <tr>\n",
       "      <th>2018-04-14 21:00:00</th>\n",
       "      <td>13.111081</td>\n",
       "    </tr>\n",
       "    <tr>\n",
       "      <th>2018-04-15 00:00:00</th>\n",
       "      <td>13.295789</td>\n",
       "    </tr>\n",
       "    <tr>\n",
       "      <th>2018-04-15 03:00:00</th>\n",
       "      <td>13.283911</td>\n",
       "    </tr>\n",
       "    <tr>\n",
       "      <th>2018-04-15 06:00:00</th>\n",
       "      <td>13.225987</td>\n",
       "    </tr>\n",
       "    <tr>\n",
       "      <th>2018-04-15 09:00:00</th>\n",
       "      <td>13.032782</td>\n",
       "    </tr>\n",
       "    <tr>\n",
       "      <th>2018-04-15 12:00:00</th>\n",
       "      <td>12.988764</td>\n",
       "    </tr>\n",
       "    <tr>\n",
       "      <th>2018-04-15 15:00:00</th>\n",
       "      <td>12.812367</td>\n",
       "    </tr>\n",
       "    <tr>\n",
       "      <th>2018-04-15 18:00:00</th>\n",
       "      <td>12.919648</td>\n",
       "    </tr>\n",
       "    <tr>\n",
       "      <th>2018-04-15 21:00:00</th>\n",
       "      <td>13.108437</td>\n",
       "    </tr>\n",
       "    <tr>\n",
       "      <th>2018-04-16 00:00:00</th>\n",
       "      <td>13.194423</td>\n",
       "    </tr>\n",
       "    <tr>\n",
       "      <th>2018-04-16 03:00:00</th>\n",
       "      <td>12.992441</td>\n",
       "    </tr>\n",
       "    <tr>\n",
       "      <th>2018-04-16 06:00:00</th>\n",
       "      <td>10.835598</td>\n",
       "    </tr>\n",
       "    <tr>\n",
       "      <th>2018-04-16 09:00:00</th>\n",
       "      <td>11.944667</td>\n",
       "    </tr>\n",
       "    <tr>\n",
       "      <th>2018-04-16 12:00:00</th>\n",
       "      <td>12.060444</td>\n",
       "    </tr>\n",
       "    <tr>\n",
       "      <th>2018-04-16 15:00:00</th>\n",
       "      <td>11.115846</td>\n",
       "    </tr>\n",
       "    <tr>\n",
       "      <th>2018-04-16 18:00:00</th>\n",
       "      <td>12.612766</td>\n",
       "    </tr>\n",
       "    <tr>\n",
       "      <th>2018-04-16 21:00:00</th>\n",
       "      <td>13.033695</td>\n",
       "    </tr>\n",
       "    <tr>\n",
       "      <th>2018-04-17 00:00:00</th>\n",
       "      <td>13.011012</td>\n",
       "    </tr>\n",
       "    <tr>\n",
       "      <th>2018-04-17 03:00:00</th>\n",
       "      <td>13.007031</td>\n",
       "    </tr>\n",
       "    <tr>\n",
       "      <th>2018-04-17 06:00:00</th>\n",
       "      <td>10.947661</td>\n",
       "    </tr>\n",
       "    <tr>\n",
       "      <th>2018-04-17 09:00:00</th>\n",
       "      <td>12.047043</td>\n",
       "    </tr>\n",
       "    <tr>\n",
       "      <th>2018-04-17 12:00:00</th>\n",
       "      <td>11.919664</td>\n",
       "    </tr>\n",
       "    <tr>\n",
       "      <th>2018-04-17 15:00:00</th>\n",
       "      <td>11.048140</td>\n",
       "    </tr>\n",
       "    <tr>\n",
       "      <th>2018-04-17 18:00:00</th>\n",
       "      <td>12.222071</td>\n",
       "    </tr>\n",
       "    <tr>\n",
       "      <th>2018-04-17 21:00:00</th>\n",
       "      <td>13.092308</td>\n",
       "    </tr>\n",
       "    <tr>\n",
       "      <th>2018-04-18 00:00:00</th>\n",
       "      <td>13.724443</td>\n",
       "    </tr>\n",
       "    <tr>\n",
       "      <th>2018-04-18 03:00:00</th>\n",
       "      <td>12.427689</td>\n",
       "    </tr>\n",
       "    <tr>\n",
       "      <th>2018-04-18 06:00:00</th>\n",
       "      <td>10.784969</td>\n",
       "    </tr>\n",
       "    <tr>\n",
       "      <th>2018-04-18 09:00:00</th>\n",
       "      <td>11.902096</td>\n",
       "    </tr>\n",
       "    <tr>\n",
       "      <th>2018-04-18 12:00:00</th>\n",
       "      <td>12.122849</td>\n",
       "    </tr>\n",
       "    <tr>\n",
       "      <th>2018-04-18 15:00:00</th>\n",
       "      <td>10.721901</td>\n",
       "    </tr>\n",
       "    <tr>\n",
       "      <th>2018-04-18 18:00:00</th>\n",
       "      <td>12.161213</td>\n",
       "    </tr>\n",
       "    <tr>\n",
       "      <th>2018-04-18 21:00:00</th>\n",
       "      <td>13.070043</td>\n",
       "    </tr>\n",
       "  </tbody>\n",
       "</table>\n",
       "</div>"
      ],
      "text/plain": [
       "                     station_available_bikes\n",
       "station_data_LUD                            \n",
       "2018-04-12 00:00:00                13.162994\n",
       "2018-04-12 03:00:00                12.958121\n",
       "2018-04-12 06:00:00                10.948594\n",
       "2018-04-12 09:00:00                11.856533\n",
       "2018-04-12 12:00:00                11.932762\n",
       "2018-04-12 15:00:00                10.976210\n",
       "2018-04-12 18:00:00                12.212404\n",
       "2018-04-12 21:00:00                12.975557\n",
       "2018-04-13 00:00:00                13.109499\n",
       "2018-04-13 03:00:00                12.994067\n",
       "2018-04-13 06:00:00                11.127694\n",
       "2018-04-13 09:00:00                11.935239\n",
       "2018-04-13 12:00:00                12.058914\n",
       "2018-04-13 15:00:00                11.379467\n",
       "2018-04-13 18:00:00                12.709076\n",
       "2018-04-13 21:00:00                13.160324\n",
       "2018-04-14 00:00:00                13.374637\n",
       "2018-04-14 03:00:00                13.356297\n",
       "2018-04-14 06:00:00                13.064396\n",
       "2018-04-14 09:00:00                12.626238\n",
       "2018-04-14 12:00:00                12.028327\n",
       "2018-04-14 15:00:00                12.145493\n",
       "2018-04-14 18:00:00                12.811395\n",
       "2018-04-14 21:00:00                13.111081\n",
       "2018-04-15 00:00:00                13.295789\n",
       "2018-04-15 03:00:00                13.283911\n",
       "2018-04-15 06:00:00                13.225987\n",
       "2018-04-15 09:00:00                13.032782\n",
       "2018-04-15 12:00:00                12.988764\n",
       "2018-04-15 15:00:00                12.812367\n",
       "2018-04-15 18:00:00                12.919648\n",
       "2018-04-15 21:00:00                13.108437\n",
       "2018-04-16 00:00:00                13.194423\n",
       "2018-04-16 03:00:00                12.992441\n",
       "2018-04-16 06:00:00                10.835598\n",
       "2018-04-16 09:00:00                11.944667\n",
       "2018-04-16 12:00:00                12.060444\n",
       "2018-04-16 15:00:00                11.115846\n",
       "2018-04-16 18:00:00                12.612766\n",
       "2018-04-16 21:00:00                13.033695\n",
       "2018-04-17 00:00:00                13.011012\n",
       "2018-04-17 03:00:00                13.007031\n",
       "2018-04-17 06:00:00                10.947661\n",
       "2018-04-17 09:00:00                12.047043\n",
       "2018-04-17 12:00:00                11.919664\n",
       "2018-04-17 15:00:00                11.048140\n",
       "2018-04-17 18:00:00                12.222071\n",
       "2018-04-17 21:00:00                13.092308\n",
       "2018-04-18 00:00:00                13.724443\n",
       "2018-04-18 03:00:00                12.427689\n",
       "2018-04-18 06:00:00                10.784969\n",
       "2018-04-18 09:00:00                11.902096\n",
       "2018-04-18 12:00:00                12.122849\n",
       "2018-04-18 15:00:00                10.721901\n",
       "2018-04-18 18:00:00                12.161213\n",
       "2018-04-18 21:00:00                13.070043"
      ]
     },
     "execution_count": 62,
     "metadata": {},
     "output_type": "execute_result"
    }
   ],
   "source": [
    "for i in "
   ]
  },
  {
   "cell_type": "code",
   "execution_count": null,
   "metadata": {},
   "outputs": [],
   "source": []
  }
 ],
 "metadata": {
  "kernelspec": {
   "display_name": "Python 3",
   "language": "python",
   "name": "python3"
  },
  "language_info": {
   "codemirror_mode": {
    "name": "ipython",
    "version": 3
   },
   "file_extension": ".py",
   "mimetype": "text/x-python",
   "name": "python",
   "nbconvert_exporter": "python",
   "pygments_lexer": "ipython3",
   "version": "3.6.4"
  }
 },
 "nbformat": 4,
 "nbformat_minor": 2
}
